{
 "cells": [
  {
   "cell_type": "code",
   "execution_count": null,
   "id": "9d7dc322",
   "metadata": {},
   "outputs": [],
   "source": [
    "num1=int(input('enter the number1:'))\n",
    "num2=int(input('enter the number2:'))\n",
    "num3=int(input('enter the number3:'))\n",
    "num4=int(input('enter the number4:'))\n",
    "if num1>num4:\n",
    "    f1=num1\n",
    "else:\n",
    "    f1=num4\n",
    "if num2>num3:\n",
    "    f2=num2\n",
    "else:\n",
    "    f2=num3\n",
    "if f1>f2:\n",
    "    print(\"the greatest num is:\"+str(f1))\n",
    "else:\n",
    "    print('greatest num is:'+str(f2))\n",
    "     "
   ]
  },
  {
   "cell_type": "code",
   "execution_count": null,
   "id": "3f1471dd",
   "metadata": {},
   "outputs": [],
   "source": [
    "name=input('enter your name:')"
   ]
  },
  {
   "cell_type": "code",
   "execution_count": null,
   "id": "4565473f",
   "metadata": {},
   "outputs": [],
   "source": [
    "length=name.len()"
   ]
  },
  {
   "cell_type": "code",
   "execution_count": null,
   "id": "2f0715d9",
   "metadata": {},
   "outputs": [],
   "source": [
    "if length<10:"
   ]
  },
  {
   "cell_type": "code",
   "execution_count": null,
   "id": "a26febbd",
   "metadata": {},
   "outputs": [],
   "source": [
    "print('no of character is less than 10')"
   ]
  },
  {
   "cell_type": "code",
   "execution_count": null,
   "id": "880ed9ca",
   "metadata": {},
   "outputs": [],
   "source": [
    "elif length>10:"
   ]
  },
  {
   "cell_type": "code",
   "execution_count": null,
   "id": "eb398ffb",
   "metadata": {},
   "outputs": [],
   "source": [
    "print('no of character is greater than 10')"
   ]
  },
  {
   "cell_type": "code",
   "execution_count": null,
   "id": "8537b538",
   "metadata": {},
   "outputs": [],
   "source": [
    "else:"
   ]
  },
  {
   "cell_type": "code",
   "execution_count": null,
   "id": "cc3acccc",
   "metadata": {},
   "outputs": [],
   "source": [
    "print('invalid input')"
   ]
  },
  {
   "cell_type": "code",
   "execution_count": 97,
   "id": "fa73eb3c",
   "metadata": {},
   "outputs": [
    {
     "name": "stdout",
     "output_type": "stream",
     "text": [
      "enter your name:sif\n"
     ]
    },
    {
     "ename": "AttributeError",
     "evalue": "'str' object has no attribute 'len'",
     "output_type": "error",
     "traceback": [
      "\u001b[1;31m---------------------------------------------------------------------------\u001b[0m",
      "\u001b[1;31mAttributeError\u001b[0m                            Traceback (most recent call last)",
      "Input \u001b[1;32mIn [97]\u001b[0m, in \u001b[0;36m<cell line: 2>\u001b[1;34m()\u001b[0m\n\u001b[0;32m      1\u001b[0m name\u001b[38;5;241m=\u001b[39m\u001b[38;5;28minput\u001b[39m(\u001b[38;5;124m'\u001b[39m\u001b[38;5;124menter your name:\u001b[39m\u001b[38;5;124m'\u001b[39m)\n\u001b[1;32m----> 2\u001b[0m length\u001b[38;5;241m=\u001b[39m\u001b[38;5;28mint\u001b[39m(\u001b[43mname\u001b[49m\u001b[38;5;241;43m.\u001b[39;49m\u001b[43mlen\u001b[49m())\n\u001b[0;32m      3\u001b[0m \u001b[38;5;28;01mif\u001b[39;00m length\u001b[38;5;241m<\u001b[39m\u001b[38;5;241m10\u001b[39m:\n\u001b[0;32m      4\u001b[0m     \u001b[38;5;28mprint\u001b[39m(\u001b[38;5;124m'\u001b[39m\u001b[38;5;124mno of character is less than 10\u001b[39m\u001b[38;5;124m'\u001b[39m)\n",
      "\u001b[1;31mAttributeError\u001b[0m: 'str' object has no attribute 'len'"
     ]
    }
   ],
   "source": [
    "name=input('enter your name:')\n",
    "length=name.len()\n",
    "if length<10:\n",
    "    print('no of character is less than 10')\n",
    "elif length>10:\n",
    "    print('no of character is greater than 10')\n",
    "else:\n",
    "    print('invalid input')"
   ]
  },
  {
   "cell_type": "markdown",
   "id": "a5a3d778",
   "metadata": {},
   "source": [
    "code for table printing:"
   ]
  },
  {
   "cell_type": "code",
   "execution_count": null,
   "id": "32eede9b",
   "metadata": {},
   "outputs": [],
   "source": [
    "num=int(input('enter the number:'))\n",
    "for i in range(1,11):\n",
    "    print(str(num)+'X'+str(i)+\"=\"+str(num*i))"
   ]
  },
  {
   "cell_type": "markdown",
   "id": "f4f8ccea",
   "metadata": {},
   "source": [
    "using of f function:"
   ]
  },
  {
   "cell_type": "code",
   "execution_count": 17,
   "id": "cb2c02b0",
   "metadata": {},
   "outputs": [
    {
     "name": "stdout",
     "output_type": "stream",
     "text": [
      "enter the number:5\n"
     ]
    }
   ],
   "source": [
    "num=int(input('enter the number:'))\n",
    "for i in range(-1,-11):\n",
    "    print(f'{num}X{i}={num*i}')"
   ]
  },
  {
   "cell_type": "markdown",
   "id": "c4732655",
   "metadata": {},
   "source": [
    "using of startwith:"
   ]
  },
  {
   "cell_type": "code",
   "execution_count": 18,
   "id": "eeb63d48",
   "metadata": {},
   "outputs": [
    {
     "name": "stdout",
     "output_type": "stream",
     "text": [
      "hellosufyan\n",
      "hellosherry\n"
     ]
    }
   ],
   "source": [
    "l1=['sufyan','sherry','husnain','hammad']\n",
    "for name in l1:\n",
    "    if name.startswith('s'):\n",
    "        print( 'hello'  + name)"
   ]
  },
  {
   "cell_type": "markdown",
   "id": "755420af",
   "metadata": {},
   "source": [
    "use of while loop"
   ]
  },
  {
   "cell_type": "markdown",
   "id": "a2664e5a",
   "metadata": {},
   "source": [
    "Reverse table printing:\n"
   ]
  },
  {
   "cell_type": "code",
   "execution_count": 1,
   "id": "18bb587f",
   "metadata": {},
   "outputs": [
    {
     "name": "stdout",
     "output_type": "stream",
     "text": [
      "enter the number:10\n",
      "10X1=10\n",
      "10X2=20\n",
      "10X3=30\n",
      "10X4=40\n",
      "10X5=50\n",
      "10X6=60\n",
      "10X7=70\n",
      "10X8=80\n",
      "10X9=90\n",
      "10X10=100\n"
     ]
    }
   ],
   "source": [
    "num=int(input('enter the number:'))\n",
    "i=1\n",
    "while i<=10:\n",
    "    print(f'{num}X{i}={num*i}')\n",
    "    i=i+1\n",
    "    "
   ]
  },
  {
   "cell_type": "markdown",
   "id": "0f7ac795",
   "metadata": {},
   "source": [
    "Reverse table using for loop:"
   ]
  },
  {
   "cell_type": "code",
   "execution_count": 6,
   "id": "f96b59a0",
   "metadata": {},
   "outputs": [
    {
     "name": "stdout",
     "output_type": "stream",
     "text": [
      "enter the number:10\n",
      "10X10=100\n",
      "10X9=90\n",
      "10X8=80\n",
      "10X7=70\n",
      "10X6=60\n",
      "10X5=50\n",
      "10X4=40\n",
      "10X3=30\n",
      "10X2=20\n",
      "10X1=10\n"
     ]
    }
   ],
   "source": [
    "num=int(input(\"enter the number:\"))\n",
    "for i in range(10,0,-1):\n",
    "    print(f\"{num}X{i}={num*i}\")"
   ]
  },
  {
   "cell_type": "markdown",
   "id": "bdddb849",
   "metadata": {},
   "source": [
    "Reverse table using while loop:"
   ]
  },
  {
   "cell_type": "code",
   "execution_count": 7,
   "id": "1aaab1a3",
   "metadata": {},
   "outputs": [
    {
     "name": "stdout",
     "output_type": "stream",
     "text": [
      "enter the number:10\n",
      "10X10=100\n",
      "10X9=90\n",
      "10X8=80\n",
      "10X7=70\n",
      "10X6=60\n",
      "10X5=50\n",
      "10X4=40\n",
      "10X3=30\n",
      "10X2=20\n",
      "10X1=10\n"
     ]
    }
   ],
   "source": [
    "num=int(input('enter the number:'))\n",
    "i=10\n",
    "while i>0:\n",
    "    print(f\"{num}X{i}={num*i}\")\n",
    "    i=i-1"
   ]
  },
  {
   "cell_type": "markdown",
   "id": "60fe927e",
   "metadata": {},
   "source": [
    "check prime or not"
   ]
  },
  {
   "cell_type": "code",
   "execution_count": 18,
   "id": "b7247f81",
   "metadata": {},
   "outputs": [
    {
     "name": "stdout",
     "output_type": "stream",
     "text": [
      "enter the number:2\n",
      "the number is prime\n"
     ]
    }
   ],
   "source": [
    "num=int(input('enter the number:'))\n",
    "prime=True\n",
    "for i in range (2,num):\n",
    "    if (num%i==0):\n",
    "        prime=False\n",
    "        break\n",
    "if prime:\n",
    "    print('the number is prime')\n",
    "else:\n",
    "    print('the number is not prime')"
   ]
  },
  {
   "cell_type": "code",
   "execution_count": 3,
   "id": "3948d351",
   "metadata": {},
   "outputs": [
    {
     "name": "stdout",
     "output_type": "stream",
     "text": [
      "enter the number:10\n",
      "the factorial of 10 is 3628800\n"
     ]
    }
   ],
   "source": [
    "num=int(input('enter the number:'))\n",
    "factorial=1\n",
    "for i in range (1,num+1):\n",
    "    factorial=factorial*i\n",
    "print(f\"the factorial of {num} is {factorial}\")\n",
    "    "
   ]
  },
  {
   "cell_type": "markdown",
   "id": "720aa1eb",
   "metadata": {},
   "source": [
    "sum of natural numbers:\n"
   ]
  },
  {
   "cell_type": "code",
   "execution_count": 22,
   "id": "b40a3dec",
   "metadata": {},
   "outputs": [
    {
     "name": "stdout",
     "output_type": "stream",
     "text": [
      "enter the number:56\n",
      "the sum of first 56 natural numbers is 57\n"
     ]
    }
   ],
   "source": [
    "num=int(input('enter the number:'))\n",
    "number=0\n",
    "while number<=num:\n",
    "    number=number+num\n",
    "    number=number+1\n",
    "print(f'the sum of first {num} natural numbers is {number}')\n",
    "    \n",
    "    "
   ]
  },
  {
   "cell_type": "markdown",
   "id": "161ebca9",
   "metadata": {},
   "source": [
    "printing patren\n"
   ]
  },
  {
   "cell_type": "code",
   "execution_count": 1,
   "id": "0ceb14ae",
   "metadata": {},
   "outputs": [
    {
     "name": "stdout",
     "output_type": "stream",
     "text": [
      "\n",
      "*\n",
      "**\n",
      "***\n",
      "****\n",
      "*****\n",
      "******\n",
      "*******\n",
      "********\n",
      "*********\n"
     ]
    }
   ],
   "source": [
    "i=10\n",
    "for i in range(10):\n",
    "    print('*'*(i))"
   ]
  },
  {
   "cell_type": "code",
   "execution_count": 14,
   "id": "efa2e47c",
   "metadata": {},
   "outputs": [
    {
     "name": "stdout",
     "output_type": "stream",
     "text": [
      "   *   \n",
      "  ***  \n",
      " ***** \n"
     ]
    }
   ],
   "source": [
    "n=4\n",
    "for i in range(3):\n",
    "    print(\" \"*(n-i-1),end=\"\")\n",
    "    print(\"*\"*(2*i+1),end=\"\")\n",
    "    print(\" \"*(n-i-1))"
   ]
  },
  {
   "cell_type": "code",
   "execution_count": 46,
   "id": "c747ea06",
   "metadata": {},
   "outputs": [
    {
     "name": "stdout",
     "output_type": "stream",
     "text": [
      "* * * * * \n",
      "* * * * * \n",
      "* * * * * \n",
      "* * * * * \n",
      "* * * * * \n"
     ]
    }
   ],
   "source": [
    "n=5\n",
    "for i in range(n):\n",
    "    for j in range(n):\n",
    "        print('*',end=\" \")\n",
    "    print()"
   ]
  },
  {
   "cell_type": "code",
   "execution_count": 54,
   "id": "d9826b70",
   "metadata": {},
   "outputs": [
    {
     "name": "stdout",
     "output_type": "stream",
     "text": [
      "  *   *   *   *   * \n",
      "  *   *   *   *   * \n",
      "  *   *   *   *   * \n",
      "  *   *   *   *   * \n",
      "  *   *   *   *   * \n"
     ]
    }
   ],
   "source": [
    "n=5\n",
    "for i in range(n):\n",
    "    for j in range(n):\n",
    "        print(' ',end=\" \")\n",
    "        print(\"*\",end=\" \")\n",
    "    print()"
   ]
  },
  {
   "cell_type": "markdown",
   "id": "fd97be9e",
   "metadata": {},
   "source": [
    "Increasing pattern"
   ]
  },
  {
   "cell_type": "code",
   "execution_count": 58,
   "id": "021914c4",
   "metadata": {},
   "outputs": [
    {
     "name": "stdout",
     "output_type": "stream",
     "text": [
      "* \n",
      "* * \n",
      "* * * \n",
      "* * * * \n",
      "* * * * * \n"
     ]
    }
   ],
   "source": [
    "n=5\n",
    "for i in range(n):\n",
    "    for j in range(i+1):\n",
    "        print(\"*\",end=\" \")\n",
    "    print()"
   ]
  },
  {
   "cell_type": "markdown",
   "id": "0fe83ac0",
   "metadata": {},
   "source": [
    "Decreasing pattern"
   ]
  },
  {
   "cell_type": "code",
   "execution_count": 61,
   "id": "863ac8b9",
   "metadata": {},
   "outputs": [
    {
     "name": "stdout",
     "output_type": "stream",
     "text": [
      "* * * * * \n",
      "* * * * \n",
      "* * * \n",
      "* * \n",
      "* \n"
     ]
    }
   ],
   "source": [
    "n=5\n",
    "for i in range(n):\n",
    "    for j in range(i,n):\n",
    "        print('*',end=\" \")\n",
    "    print()"
   ]
  },
  {
   "cell_type": "markdown",
   "id": "5b9bdff7",
   "metadata": {},
   "source": [
    "Right sided triangle"
   ]
  },
  {
   "cell_type": "code",
   "execution_count": 74,
   "id": "e10b4bdc",
   "metadata": {},
   "outputs": [
    {
     "name": "stdout",
     "output_type": "stream",
     "text": [
      "          * \n",
      "        * * \n",
      "      * * * \n",
      "    * * * * \n",
      "  * * * * * \n"
     ]
    }
   ],
   "source": [
    "n=5\n",
    "for i in range(n):\n",
    "    for j in range(i,n):\n",
    "        print(\" \",end=\" \")\n",
    "    for j in range(i+1):\n",
    "        print(\"*\",end=\" \")\n",
    "    print()"
   ]
  },
  {
   "cell_type": "code",
   "execution_count": 68,
   "id": "cd18b3fc",
   "metadata": {},
   "outputs": [
    {
     "name": "stdout",
     "output_type": "stream",
     "text": [
      "  * * * * * \n",
      "    * * * * \n",
      "      * * * \n",
      "        * * \n",
      "          * \n"
     ]
    }
   ],
   "source": [
    "n=5\n",
    "for i in range(n):\n",
    "    for j in range(i+1):\n",
    "        print(\" \",end=\" \")\n",
    "    for j in range(i,n):\n",
    "        print(\"*\",end=\" \")\n",
    "    print()"
   ]
  },
  {
   "cell_type": "code",
   "execution_count": 91,
   "id": "178722a2",
   "metadata": {},
   "outputs": [
    {
     "name": "stdout",
     "output_type": "stream",
     "text": [
      "          * \n",
      "        * * * \n",
      "      * * * * * \n",
      "    * * * * * * * \n",
      "  * * * * * * * * * \n"
     ]
    }
   ],
   "source": [
    "n=5\n",
    "for i in range(n):\n",
    "    for j in range(i,n):\n",
    "        print(\" \",end=\" \")\n",
    "    for j in range(i):\n",
    "        print(\"*\",end=\" \")\n",
    "    for j in range(i+1):\n",
    "        print(\"*\",end=\" \")\n",
    "    print()"
   ]
  },
  {
   "cell_type": "code",
   "execution_count": 92,
   "id": "11084d36",
   "metadata": {},
   "outputs": [
    {
     "name": "stdout",
     "output_type": "stream",
     "text": [
      "  * * * * * * * * * \n",
      "    * * * * * * * \n",
      "      * * * * * \n",
      "        * * * \n",
      "          * \n"
     ]
    }
   ],
   "source": [
    "n=5\n",
    "for i in range(n):\n",
    "    for j in range(i+1):\n",
    "        print(\" \",end=\" \")\n",
    "    for j in range(i,n-1):\n",
    "        print(\"*\",end=\" \")\n",
    "    for j in range(i,n):\n",
    "        print('*',end=\" \")\n",
    "    print()   "
   ]
  },
  {
   "cell_type": "code",
   "execution_count": 95,
   "id": "73b4b9a8",
   "metadata": {},
   "outputs": [
    {
     "name": "stdout",
     "output_type": "stream",
     "text": [
      "          * \n",
      "        * * * \n",
      "      * * * * * \n",
      "    * * * * * * * \n",
      "  * * * * * * * * * \n",
      "    * * * * * * * \n",
      "      * * * * * \n",
      "        * * * \n",
      "          * \n"
     ]
    }
   ],
   "source": [
    "n=5\n",
    "for i in range(n-1):\n",
    "    for j in range(i,n):\n",
    "        print(\" \",end=\" \")\n",
    "    for j in range(i):\n",
    "        print(\"*\",end=\" \")\n",
    "    for j in range(i+1):\n",
    "        print(\"*\",end=\" \")\n",
    "    print()\n",
    "for i in range(n):\n",
    "    for j in range(i+1):\n",
    "        print(\" \",end=\" \")\n",
    "    for j in range(i,n-1):\n",
    "        print(\"*\",end=\" \")\n",
    "    for j in range(i,n):\n",
    "        print('*',end=\" \")\n",
    "    print()   "
   ]
  },
  {
   "cell_type": "code",
   "execution_count": 12,
   "id": "0a1b59b7",
   "metadata": {},
   "outputs": [
    {
     "name": "stdout",
     "output_type": "stream",
     "text": [
      "      *       * \n",
      "    * * *     * * * \n",
      "  * * * * *   * * * * * \n"
     ]
    }
   ],
   "source": [
    "n=3\n",
    "for i in range(n):\n",
    "    for j in range(i,n):\n",
    "        print(\" \",end=\" \")\n",
    "    for j in range(i):\n",
    "        print(\"*\",end=\" \")\n",
    "    for j in range(i+1):\n",
    "        print(\"*\",end=\" \")\n",
    "    for j in range(i,n):\n",
    "        print(\" \",end=\" \")\n",
    "    for j in range(i):\n",
    "        print(\"*\",end=\" \")\n",
    "    for j in range(i+1):\n",
    "        print(\"*\",end=\" \")\n",
    "        \n",
    "    print()\n"
   ]
  },
  {
   "cell_type": "code",
   "execution_count": 42,
   "id": "a02544a2",
   "metadata": {},
   "outputs": [
    {
     "name": "stdout",
     "output_type": "stream",
     "text": [
      "* * * * * \n",
      "* * * * \n",
      "* * * \n",
      "* * \n",
      "* \n",
      "None\n"
     ]
    }
   ],
   "source": [
    "def lines(n):\n",
    "    for i in range(n):\n",
    "        for j in range(i,n):\n",
    "            print(\"*\",end=\" \")\n",
    "        print()\n",
    "    return \n",
    "\n",
    "f=lines(5)\n",
    "print(f)\n",
    "\n",
    "\n"
   ]
  },
  {
   "cell_type": "code",
   "execution_count": 43,
   "id": "a60274bf",
   "metadata": {},
   "outputs": [
    {
     "name": "stdout",
     "output_type": "stream",
     "text": [
      "* * * * * * * * * * * * * * * * * * * * \n",
      "* * * * * * * * * * * * * * * * * * * \n",
      "* * * * * * * * * * * * * * * * * * \n",
      "* * * * * * * * * * * * * * * * * \n",
      "* * * * * * * * * * * * * * * * \n",
      "* * * * * * * * * * * * * * * \n",
      "* * * * * * * * * * * * * * \n",
      "* * * * * * * * * * * * * \n",
      "* * * * * * * * * * * * \n",
      "* * * * * * * * * * * \n",
      "* * * * * * * * * * \n",
      "* * * * * * * * * \n",
      "* * * * * * * * \n",
      "* * * * * * * \n",
      "* * * * * * \n",
      "* * * * * \n",
      "* * * * \n",
      "* * * \n",
      "* * \n",
      "* \n",
      "None\n"
     ]
    }
   ],
   "source": [
    "f=lines(20)\n",
    "print(f)"
   ]
  }
 ],
 "metadata": {
  "kernelspec": {
   "display_name": "Python 3 (ipykernel)",
   "language": "python",
   "name": "python3"
  },
  "language_info": {
   "codemirror_mode": {
    "name": "ipython",
    "version": 3
   },
   "file_extension": ".py",
   "mimetype": "text/x-python",
   "name": "python",
   "nbconvert_exporter": "python",
   "pygments_lexer": "ipython3",
   "version": "3.9.12"
  }
 },
 "nbformat": 4,
 "nbformat_minor": 5
}
