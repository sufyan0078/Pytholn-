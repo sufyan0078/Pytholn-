{
 "cells": [
  {
   "cell_type": "markdown",
   "metadata": {},
   "source": [
    "# List and tuple\n",
    "* list mutable [, , , ]\n",
    "* tuple imutable ( , , ,  )\n",
    "\n",
    "### list[index]\n",
    "extract single value from list or tuple\n",
    "### list[start:end]\n",
    "extract multiple values from list or tuple (start enclude, end exclude one minus)\n",
    "### list[start:end:seq]\n",
    "extract multiple values from list or tuple also define sequance\n",
    "\n",
    "* methods and attributes"
   ]
  },
  {
   "cell_type": "code",
   "execution_count": 1,
   "metadata": {},
   "outputs": [],
   "source": [
    "name = \"Muhammad Qasim\""
   ]
  },
  {
   "cell_type": "code",
   "execution_count": 4,
   "metadata": {},
   "outputs": [],
   "source": [
    "# ->       0        1      2     3       4\n",
    "names = [\"Qasim\",\"Nasir\",\"Ali\",\"Hamza\",\"Mansoor\"]\n",
    "#           -5      -4     -3    -2      -1       <-\n",
    "\n",
    "#list[index]\n",
    "#list[start:end]\n",
    "#list[start:end:seq]\n"
   ]
  },
  {
   "cell_type": "markdown",
   "metadata": {},
   "source": [
    "# list[index]\n",
    "extract single value from list or tuple"
   ]
  },
  {
   "cell_type": "code",
   "execution_count": 8,
   "metadata": {},
   "outputs": [
    {
     "name": "stdout",
     "output_type": "stream",
     "text": [
      "['Qasim', 'Nasir', 'Ali', 'Hamza', 'Mansoor']\n",
      "Hamza\n",
      "Hamza\n"
     ]
    }
   ],
   "source": [
    "# ->       0        1      2     3       4\n",
    "names = [\"Qasim\",\"Nasir\",\"Ali\",\"Hamza\",\"Mansoor\"]\n",
    "#           -5      -4     -3    -2      -1       <-\n",
    "\n",
    "print(names)\n",
    "print(names[3]) # extract value with positive index\n",
    "print(names[-2]) # extract value with negative index"
   ]
  },
  {
   "cell_type": "code",
   "execution_count": 11,
   "metadata": {},
   "outputs": [
    {
     "name": "stdout",
     "output_type": "stream",
     "text": [
      "Before ['Qasim', 'Nasir', 'Ali', 'Hamza', 'Mansoor']\n",
      "After ['Muhammad Qasim', 'Nasir', 'Ali', 'Hamza', 'Mansoor']\n"
     ]
    }
   ],
   "source": [
    "# ->       0        1      2     3       4\n",
    "names = [\"Qasim\",\"Nasir\",\"Ali\",\"Hamza\",\"Mansoor\"] # elements, items\n",
    "#           -5      -4     -3    -2      -1       <-\n",
    "print(\"Before\",names)\n",
    "\n",
    "names[0] = \"Muhammad Qasim\" # update value with index number\n",
    "\n",
    "print(\"After\",names)"
   ]
  },
  {
   "cell_type": "code",
   "execution_count": 12,
   "metadata": {},
   "outputs": [
    {
     "data": {
      "text/plain": [
       "['Muhammad Qasim', 'Nasir', 'Ali', 'Hamza', 'Mansoor']"
      ]
     },
     "execution_count": 12,
     "metadata": {},
     "output_type": "execute_result"
    }
   ],
   "source": [
    "names"
   ]
  },
  {
   "cell_type": "markdown",
   "metadata": {},
   "source": [
    "### list[start:end]\n",
    "## Slicing (extract multiple values in sequance)\n",
    "extract multiple values from list or tuple (start enclude, end exclude one minus)\n"
   ]
  },
  {
   "cell_type": "markdown",
   "metadata": {},
   "source": [
    "esc->m->shift+enter"
   ]
  },
  {
   "cell_type": "code",
   "execution_count": 17,
   "metadata": {},
   "outputs": [
    {
     "name": "stdout",
     "output_type": "stream",
     "text": [
      "['Nasir', 'Ali']\n",
      "['Nasir', 'Ali', 'Hamza']\n",
      "['Nasir', 'Ali', 'Hamza', 'Mansoor']\n"
     ]
    }
   ],
   "source": [
    "# ->       0        1      2     3       4\n",
    "names = [\"Qasim\",\"Nasir\",\"Ali\",\"Hamza\",\"Mansoor\"] # elements, items\n",
    "#           -5      -4     -3    -2      -1       <-\n",
    "\n",
    "print(names[1:3]) # start enclude , end exclude index-1\n",
    "print(names[1:4])\n",
    "print(names[1:5])"
   ]
  },
  {
   "cell_type": "markdown",
   "metadata": {},
   "source": [
    "#### what we apply before slicing feature not part of this class just for refference we write here"
   ]
  },
  {
   "cell_type": "code",
   "execution_count": 15,
   "metadata": {},
   "outputs": [
    {
     "name": "stdout",
     "output_type": "stream",
     "text": [
      "Qasim\n",
      "Nasir\n",
      "Ali\n",
      "Hamza\n",
      "Mansoor\n"
     ]
    }
   ],
   "source": [
    "names = [\"Qasim\",\"Nasir\",\"Ali\",\"Hamza\",\"Mansoor\"] # elements, items\n",
    "\n",
    "\n",
    "i = 0\n",
    "while i<len(names):\n",
    "    print(names[i])\n",
    "    i += 1"
   ]
  },
  {
   "cell_type": "code",
   "execution_count": 16,
   "metadata": {},
   "outputs": [
    {
     "name": "stdout",
     "output_type": "stream",
     "text": [
      "start no:1\n",
      "end no:4\n",
      "Nasir\n",
      "Ali\n",
      "Hamza\n"
     ]
    }
   ],
   "source": [
    "names = [\"Qasim\",\"Nasir\",\"Ali\",\"Hamza\",\"Mansoor\"] # elements, items\n",
    "\n",
    "s = int(input(\"start no:\"))\n",
    "e = int(input(\"end no:\"))\n",
    "i = s\n",
    "while i<e:\n",
    "    print(names[i])\n",
    "    i += 1"
   ]
  },
  {
   "cell_type": "markdown",
   "metadata": {},
   "source": [
    "### list[start:end:seq]\n",
    "extract multiple values from list or tuple also define sequance<br>\n",
    "start = enclude<br>\n",
    "end = exclude or index-1<br>\n",
    "sequance = steps (defualt value of step=1)<br> \n",
    "\n",
    "\n",
    "- range(start,end,step)"
   ]
  },
  {
   "cell_type": "code",
   "execution_count": 18,
   "metadata": {},
   "outputs": [
    {
     "name": "stdout",
     "output_type": "stream",
     "text": [
      "[1, 2, 3, 4, 5, 6, 7, 8, 9, 10, 11, 12, 13, 14, 15, 16, 17, 18, 19, 20]\n"
     ]
    }
   ],
   "source": [
    "numbers = list(range(1,21))\n",
    "print(numbers)\n",
    "\n"
   ]
  },
  {
   "cell_type": "code",
   "execution_count": 24,
   "metadata": {},
   "outputs": [
    {
     "name": "stdout",
     "output_type": "stream",
     "text": [
      "[1, 2, 3, 4, 5, 6, 7, 8, 9, 10, 11, 12, 13, 14, 15, 16, 17, 18, 19, 20]\n",
      "[9, 10, 11, 12, 13, 14, 15, 16, 17, 18, 19, 20]\n"
     ]
    }
   ],
   "source": [
    "numbers = [1,2,3,4,5,6,7,8,9,10,11,12,13,14,15,16,17,18,19,20]\n",
    "print(numbers)\n",
    "#[start:end:step]\n",
    "print(numbers[8:])\n"
   ]
  },
  {
   "cell_type": "code",
   "execution_count": 25,
   "metadata": {},
   "outputs": [
    {
     "name": "stdout",
     "output_type": "stream",
     "text": [
      "[1, 2, 3, 4, 5, 6, 7, 8, 9, 10, 11, 12, 13, 14, 15, 16, 17, 18, 19, 20]\n",
      "[1, 2, 3, 4, 5, 6, 7, 8, 9, 10, 11, 12, 13, 14, 15, 16]\n"
     ]
    }
   ],
   "source": [
    "numbers = [1,2,3,4,5,6,7,8,9,10,11,12,13,14,15,16,17,18,19,20]\n",
    "print(numbers)\n",
    "#[start:end:step]\n",
    "print(numbers[:16])"
   ]
  },
  {
   "cell_type": "code",
   "execution_count": 26,
   "metadata": {},
   "outputs": [
    {
     "name": "stdout",
     "output_type": "stream",
     "text": [
      "[1, 2, 3, 4, 5, 6, 7, 8, 9, 10, 11, 12, 13, 14, 15, 16, 17, 18, 19, 20]\n",
      "[8, 9, 10, 11, 12, 13, 14, 15, 16]\n"
     ]
    }
   ],
   "source": [
    "numbers = [1,2,3,4,5,6,7,8,9,10,11,12,13,14,15,16,17,18,19,20]\n",
    "print(numbers)\n",
    "#[start:end:step]\n",
    "print(numbers[7:16]) #numbers[7:16:1]"
   ]
  },
  {
   "cell_type": "code",
   "execution_count": 27,
   "metadata": {},
   "outputs": [
    {
     "name": "stdout",
     "output_type": "stream",
     "text": [
      "[1, 2, 3, 4, 5, 6, 7, 8, 9, 10, 11, 12, 13, 14, 15, 16, 17, 18, 19, 20]\n",
      "[1, 3, 5, 7, 9, 11, 13, 15, 17, 19]\n"
     ]
    }
   ],
   "source": [
    "numbers = [1,2,3,4,5,6,7,8,9,10,11,12,13,14,15,16,17,18,19,20]\n",
    "print(numbers)\n",
    "#[start:end:step]\n",
    "print(numbers[::2]) #numbers[7:16:1]"
   ]
  },
  {
   "cell_type": "code",
   "execution_count": 28,
   "metadata": {},
   "outputs": [
    {
     "name": "stdout",
     "output_type": "stream",
     "text": [
      "[1, 2, 3, 4, 5, 6, 7, 8, 9, 10, 11, 12, 13, 14, 15, 16, 17, 18, 19, 20]\n",
      "[1, 4, 7, 10, 13, 16, 19]\n"
     ]
    }
   ],
   "source": [
    "numbers = [1,2,3,4,5,6,7,8,9,10,11,12,13,14,15,16,17,18,19,20]\n",
    "print(numbers)\n",
    "#[start:end:step]\n",
    "print(numbers[::3]) #numbers[7:16:1]"
   ]
  },
  {
   "cell_type": "markdown",
   "metadata": {},
   "source": [
    "if step = 1 (slicing left to right)<br>\n",
    "if step = -1 (slicing right to left)"
   ]
  },
  {
   "cell_type": "code",
   "execution_count": 29,
   "metadata": {},
   "outputs": [
    {
     "name": "stdout",
     "output_type": "stream",
     "text": [
      "[1, 2, 3, 4, 5, 6, 7, 8, 9, 10, 11, 12, 13, 14, 15, 16, 17, 18, 19, 20]\n",
      "[20, 19, 18, 17, 16, 15, 14, 13, 12, 11, 10, 9, 8, 7, 6, 5, 4, 3, 2, 1]\n"
     ]
    }
   ],
   "source": [
    "numbers = [1,2,3,4,5,6,7,8,9,10,11,12,13,14,15,16,17,18,19,20]\n",
    "print(numbers)\n",
    "#[start:end:step]\n",
    "print(numbers[::-1]) # right to left\n",
    "\n"
   ]
  },
  {
   "cell_type": "code",
   "execution_count": 48,
   "metadata": {},
   "outputs": [
    {
     "name": "stdout",
     "output_type": "stream",
     "text": [
      "[1, 2, 3, 4, 5, 6, 7, 8, 9, 10, 11, 12, 13, 14, 15, 16, 17, 18, 19, 20]\n",
      "[]\n",
      "[20, 19, 18, 17, 16, 15, 14, 13, 12, 11, 10, 9, 8, 7, 6, 5, 4, 3, 2, 1]\n",
      "[10, 9, 8, 7, 6, 5, 4, 3, 2, 1]\n",
      "[10, 9, 8, 7, 6, 5, 4, 3, 2, 1]\n"
     ]
    }
   ],
   "source": [
    "numbers = [1,2,3,4,5,6,7,8,9,10,11,12,13,14,15,16,17,18,19,20]\n",
    "print(numbers)\n",
    "#[start:end:step]\n",
    "print(numbers[0:10:-1]) # right to left\n",
    "print(numbers[::-1]) # right to left\n",
    "print(numbers[-11:-21:-1])\n",
    "print(numbers[9::-1])\n"
   ]
  },
  {
   "cell_type": "code",
   "execution_count": 72,
   "metadata": {},
   "outputs": [
    {
     "name": "stdout",
     "output_type": "stream",
     "text": [
      "[1, 2, 3, 4, 5]\n",
      "[5, 4, 3, 2, 1]\n",
      "[4, 3, 2]\n",
      "[4, 3, 2]\n"
     ]
    }
   ],
   "source": [
    "numbers = [1,2,3,4,5]\n",
    "print(numbers)\n",
    "print(numbers[::-1])\n",
    "print(numbers[3:0:-1]) #4,3,2\n",
    "print(numbers[-2:-5:-1]) #4,3,2\n",
    "\n"
   ]
  },
  {
   "cell_type": "code",
   "execution_count": 74,
   "metadata": {},
   "outputs": [
    {
     "name": "stdout",
     "output_type": "stream",
     "text": [
      "[1, 2, 3, 4, 5]\n",
      "[]\n",
      "[1, 2, 3]\n",
      "[3, 2, 1]\n"
     ]
    }
   ],
   "source": [
    "numbers = [1,2,3,4,5]\n",
    "print(numbers)\n",
    "print(numbers[-2:-5:]) #4,3,2\n",
    "print(numbers[-5:-2:1])\n",
    "print(numbers[2::-1])\n"
   ]
  },
  {
   "cell_type": "code",
   "execution_count": null,
   "metadata": {},
   "outputs": [],
   "source": []
  }
 ],
 "metadata": {
  "kernelspec": {
   "display_name": "Python 3",
   "language": "python",
   "name": "python3"
  },
  "language_info": {
   "codemirror_mode": {
    "name": "ipython",
    "version": 3
   },
   "file_extension": ".py",
   "mimetype": "text/x-python",
   "name": "python",
   "nbconvert_exporter": "python",
   "pygments_lexer": "ipython3",
   "version": "3.7.6"
  }
 },
 "nbformat": 4,
 "nbformat_minor": 4
}
