{
 "cells": [
  {
   "cell_type": "markdown",
   "id": "0f2d8f3b",
   "metadata": {},
   "source": [
    "# Assignment: Class 13_AIC\n",
    "*Muhammad Sufyan\n",
    "*Roll No. PIAIC172822\n",
    "*Batch 37 - Online"
   ]
  },
  {
   "cell_type": "code",
   "execution_count": null,
   "id": "98f219cd",
   "metadata": {},
   "outputs": [],
   "source": [
    "#create father class\n",
    "class father():\n",
    "    def __init__(self,name):\n",
    "        self.name=name\n",
    "        self.fage=None\n",
    "        self.fskills=None\n",
    "    def fskills(self):\n",
    "        return f\"f.skill is{self.fskill}\"\n",
    "    def fage(self):\n",
    "        return f\"f.age is {self.fage}\"\n",
    "f1=father(\"father1\")\n",
    "print(list(i for i in dir(f1) if \"__\" not in i)"
   ]
  },
  {
   "cell_type": "code",
   "execution_count": null,
   "id": "759fe660",
   "metadata": {},
   "outputs": [],
   "source": [
    "# create mother class\n",
    "\n",
    "class Mother():\n",
    "    def __init__(this,name):\n",
    "        this.name = name\n",
    "        this.speak = None\n",
    "        this.cook = None\n",
    "        \n",
    "    def showCook(this):\n",
    "        return f\"I can cook {this.cook}\"\n",
    "    \n",
    "    def showListen(this):\n",
    "        return f\"I can write {this.write}\"\n",
    "    \n",
    "m1 = Mother('mother1')"
   ]
  },
  {
   "cell_type": "code",
   "execution_count": 1,
   "id": "f53327e6",
   "metadata": {},
   "outputs": [
    {
     "ename": "NameError",
     "evalue": "name 'Father' is not defined",
     "output_type": "error",
     "traceback": [
      "\u001b[0;31m---------------------------------------------------------------------------\u001b[0m",
      "\u001b[0;31mNameError\u001b[0m                                 Traceback (most recent call last)",
      "Input \u001b[0;32mIn [1]\u001b[0m, in \u001b[0;36m<cell line: 3>\u001b[0;34m()\u001b[0m\n\u001b[1;32m      1\u001b[0m \u001b[38;5;66;03m# Create child class from Father & Mother Classes\u001b[39;00m\n\u001b[0;32m----> 3\u001b[0m \u001b[38;5;28;01mclass\u001b[39;00m \u001b[38;5;21;01mChild\u001b[39;00m(\u001b[43mFather\u001b[49m, Mother):\n\u001b[1;32m      4\u001b[0m     \u001b[38;5;28;01mdef\u001b[39;00m \u001b[38;5;21m__init__\u001b[39m(\u001b[38;5;28mself\u001b[39m,name):\n\u001b[1;32m      5\u001b[0m         Father\u001b[38;5;241m.\u001b[39m\u001b[38;5;21m__init__\u001b[39m(\u001b[38;5;28mself\u001b[39m, name)\n",
      "\u001b[0;31mNameError\u001b[0m: name 'Father' is not defined"
     ]
    }
   ],
   "source": [
    "# Create child class from Father & Mother Classes\n",
    "\n",
    "class Child(Father, Mother):\n",
    "    def __init__(self,name):\n",
    "        Father.__init__(self, name)\n",
    "        Mother.__init__(self, name)\n",
    "        self.address = None\n",
    "        self.education = None\n",
    "        \n",
    "c1 = Child('child')"
   ]
  },
  {
   "cell_type": "code",
   "execution_count": null,
   "id": "fec49654",
   "metadata": {},
   "outputs": [],
   "source": [
    "# Printing Attributes and Methods of Father, Mother and Child Objects"
   ]
  },
  {
   "cell_type": "code",
   "execution_count": null,
   "id": "6cc5143d",
   "metadata": {},
   "outputs": [],
   "source": [
    "print(list(i for i in dir(f1) if \"__\" not in i))"
   ]
  },
  {
   "cell_type": "code",
   "execution_count": null,
   "id": "03784fc3",
   "metadata": {},
   "outputs": [],
   "source": [
    "print(list(i for i in dir(m1) if \"__\" not in i))"
   ]
  },
  {
   "cell_type": "code",
   "execution_count": null,
   "id": "ae2e7dda",
   "metadata": {},
   "outputs": [],
   "source": [
    "print(list(i for i in dir(c1) if \"__\" not in i))"
   ]
  },
  {
   "cell_type": "code",
   "execution_count": null,
   "id": "050fd04f",
   "metadata": {},
   "outputs": [],
   "source": [
    "c1.cook = 'briyani'"
   ]
  },
  {
   "cell_type": "code",
   "execution_count": null,
   "id": "234dc864",
   "metadata": {},
   "outputs": [],
   "source": [
    "c1.showCook()"
   ]
  },
  {
   "cell_type": "code",
   "execution_count": null,
   "id": "5ee3bd47",
   "metadata": {},
   "outputs": [],
   "source": [
    "m1.showCook()"
   ]
  },
  {
   "cell_type": "markdown",
   "id": "e8d3ce87",
   "metadata": {},
   "source": [
    "# task 2\n",
    "Oprater overloading"
   ]
  },
  {
   "cell_type": "code",
   "execution_count": null,
   "id": "44c114fe",
   "metadata": {},
   "outputs": [],
   "source": [
    "# Create a class\n",
    "\n",
    "class Book():\n",
    "    def __init__(self, price):\n",
    "        self.price = price\n",
    "        \n",
    "   # Operator Overloading\n",
    "    def __add__(self, other):\n",
    "        return self.price + other.price "
   ]
  },
  {
   "cell_type": "code",
   "execution_count": 2,
   "id": "c934eee0",
   "metadata": {},
   "outputs": [
    {
     "ename": "NameError",
     "evalue": "name 'Book' is not defined",
     "output_type": "error",
     "traceback": [
      "\u001b[0;31m---------------------------------------------------------------------------\u001b[0m",
      "\u001b[0;31mNameError\u001b[0m                                 Traceback (most recent call last)",
      "Input \u001b[0;32mIn [2]\u001b[0m, in \u001b[0;36m<cell line: 3>\u001b[0;34m()\u001b[0m\n\u001b[1;32m      1\u001b[0m \u001b[38;5;66;03m# Create objects from class\u001b[39;00m\n\u001b[0;32m----> 3\u001b[0m Book1 \u001b[38;5;241m=\u001b[39m \u001b[43mBook\u001b[49m(\u001b[38;5;241m1000\u001b[39m)\n\u001b[1;32m      4\u001b[0m Book2 \u001b[38;5;241m=\u001b[39m Book(\u001b[38;5;241m1500\u001b[39m)\n",
      "\u001b[0;31mNameError\u001b[0m: name 'Book' is not defined"
     ]
    }
   ],
   "source": [
    "# Create objects from class\n",
    "\n",
    "Book1 = Book(1000)\n",
    "Book2 = Book(1500)"
   ]
  },
  {
   "cell_type": "code",
   "execution_count": null,
   "id": "187bb173",
   "metadata": {},
   "outputs": [],
   "source": [
    "print(Book1.price + Book2.price)     # addition"
   ]
  },
  {
   "cell_type": "code",
   "execution_count": null,
   "id": "a2b228ad",
   "metadata": {},
   "outputs": [],
   "source": [
    "print(Book1 + Book2)                 # operator overloading"
   ]
  }
 ],
 "metadata": {
  "kernelspec": {
   "display_name": "Python 3 (ipykernel)",
   "language": "python",
   "name": "python3"
  },
  "language_info": {
   "codemirror_mode": {
    "name": "ipython",
    "version": 3
   },
   "file_extension": ".py",
   "mimetype": "text/x-python",
   "name": "python",
   "nbconvert_exporter": "python",
   "pygments_lexer": "ipython3",
   "version": "3.9.12"
  }
 },
 "nbformat": 4,
 "nbformat_minor": 5
}
